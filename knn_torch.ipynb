{
 "cells": [
  {
   "cell_type": "code",
   "execution_count": 54,
   "metadata": {},
   "outputs": [],
   "source": [
    "import torch"
   ]
  },
  {
   "cell_type": "code",
   "execution_count": 55,
   "metadata": {},
   "outputs": [],
   "source": [
    "def knn_classifier(train_x, train_y, query, k, num_class):\n",
    "    '''\n",
    "    train_x: train data set of size (n, d)\n",
    "    train_y: target values of train data set with size n\n",
    "    k: number of neighbors\n",
    "    query: test data set of size (m, d)\n",
    "    num_class: number of classes\n",
    "    '''\n",
    "    distances = torch.cdist(query, train_x)\n",
    "    _, indices = torch.topk(distances, k=k, largest=False, dim=1)\n",
    "    neighbour_y = train_y[indices]\n",
    "    I = torch.eye(num_class, device=train_x.device)\n",
    "    return I[neighbour_y].mean(dim=1)\n",
    "\n",
    "\n",
    "def knn_regressor(train_x, train_y, query, k):\n",
    "    '''\n",
    "    train_x: train data set of size (n, d)\n",
    "    train_y: target values of train data set with size n\n",
    "    k: number of neighbors\n",
    "    query: test data set of size (m, d)\n",
    "    '''\n",
    "    distances = torch.cdist(query, train_x)\n",
    "    _, indices = torch.topk(distances, k=k, largest=False, dim=1)\n",
    "    neighbour_y = train_y[indices]\n",
    "    return neighbour_y.mean(dim=1)"
   ]
  },
  {
   "cell_type": "code",
   "execution_count": null,
   "metadata": {},
   "outputs": [],
   "source": []
  }
 ],
 "metadata": {
  "kernelspec": {
   "display_name": "Python 3",
   "language": "python",
   "name": "python3"
  },
  "language_info": {
   "codemirror_mode": {
    "name": "ipython",
    "version": 3
   },
   "file_extension": ".py",
   "mimetype": "text/x-python",
   "name": "python",
   "nbconvert_exporter": "python",
   "pygments_lexer": "ipython3",
   "version": "3.7.6"
  }
 },
 "nbformat": 4,
 "nbformat_minor": 4
}
