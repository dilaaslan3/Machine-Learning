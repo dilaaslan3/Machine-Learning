{
 "cells": [
  {
   "cell_type": "code",
   "execution_count": null,
   "metadata": {},
   "outputs": [],
   "source": [
    "import torch\n",
    "import torch.nn as nn\n",
    "import numpy as np\n",
    "import matplotlib.pyplot as plt"
   ]
  },
  {
   "cell_type": "markdown",
   "metadata": {},
   "source": [
    "### PyTorch Basics"
   ]
  },
  {
   "cell_type": "code",
   "execution_count": null,
   "metadata": {},
   "outputs": [],
   "source": [
    "# tensor\n",
    "a = torch.tensor([5.])\n",
    "print(a)\n",
    "\n",
    "b = np.random.randint(1, 10, size=(2, 5))\n",
    "print(\"Numpy:\\n\", b)\n",
    "\n",
    "c = torch.tensor(b)\n",
    "print(\"Tensor:\\n\", c)\n",
    "\n",
    "print(\"Numpy:\\n\", c.numpy())"
   ]
  },
  {
   "cell_type": "code",
   "execution_count": null,
   "metadata": {},
   "outputs": [],
   "source": [
    "# reshape - view\n",
    "temp = torch.tensor([1, 2, 3, 4, 5, 6, 7, 8, 9, 10], dtype=torch.float)\n",
    "print(temp)\n",
    "print(temp.view(2, 5))\n",
    "print(temp.view(-1, 1))"
   ]
  },
  {
   "cell_type": "code",
   "execution_count": null,
   "metadata": {},
   "outputs": [],
   "source": [
    "# squeeze - unsqueeze\n",
    "h = torch.randn(5, 3)\n",
    "print(h.shape, \"\\n\", h, \"\\n\")\n",
    "h = h.unsqueeze_(1)\n",
    "print(h.shape, \"\\n\", h, \"\\n\")\n",
    "h = h.squeeze_(1)\n",
    "print(h.shape, \"\\n\", h, \"\\n\")"
   ]
  },
  {
   "cell_type": "code",
   "execution_count": null,
   "metadata": {},
   "outputs": [],
   "source": [
    "# Device Check\n",
    "if torch.cuda.is_available():\n",
    "    device=\"cuda:0\"\n",
    "else:\n",
    "    device=\"cpu\""
   ]
  },
  {
   "cell_type": "code",
   "execution_count": null,
   "metadata": {},
   "outputs": [],
   "source": [
    "temp.to(device)"
   ]
  },
  {
   "cell_type": "code",
   "execution_count": null,
   "metadata": {},
   "outputs": [],
   "source": [
    "torch.tensor([2, 4, 6], dtype=torch.float, device=device)"
   ]
  },
  {
   "cell_type": "markdown",
   "metadata": {},
   "source": [
    "### Training a basic model"
   ]
  },
  {
   "cell_type": "code",
   "execution_count": null,
   "metadata": {},
   "outputs": [],
   "source": [
    "x = torch.rand(50)\n",
    "y = 5. * x + 3."
   ]
  },
  {
   "cell_type": "code",
   "execution_count": null,
   "metadata": {
    "scrolled": true
   },
   "outputs": [],
   "source": [
    "plt.plot(x, y)"
   ]
  },
  {
   "cell_type": "markdown",
   "metadata": {},
   "source": [
    "Build a linear model: $y = wx + b$\n",
    "\n",
    "Our aim is to find $w$ and $b$ (parameters)\n",
    "\n",
    "requires_grad=True -> calculate derivatives with respect to $w$ and $b$"
   ]
  },
  {
   "cell_type": "code",
   "execution_count": null,
   "metadata": {},
   "outputs": [],
   "source": [
    "# Parameters\n",
    "w = torch.randn(1, requires_grad=True)\n",
    "b = torch.randn(1, requires_grad=True)"
   ]
  },
  {
   "cell_type": "code",
   "execution_count": null,
   "metadata": {},
   "outputs": [],
   "source": [
    "# Optimizer - SGD/Adam\n",
    "'''\n",
    "lr: learning rate\n",
    "params: parameters to be updated\n",
    "weight_decay: L2 regularization\n",
    "'''\n",
    "optimizer = torch.optim.SGD(params=[w, b],\n",
    "                            lr=1e-2,\n",
    "                            weight_decay=0)"
   ]
  },
  {
   "cell_type": "code",
   "execution_count": null,
   "metadata": {},
   "outputs": [],
   "source": [
    "# Loss function\n",
    "criterion = nn.MSELoss()"
   ]
  },
  {
   "cell_type": "code",
   "execution_count": null,
   "metadata": {},
   "outputs": [],
   "source": [
    "# Training Loop\n",
    "num_epoch = 30\n",
    "size = x.shape[0]\n",
    "for epoch in range(num_epoch):\n",
    "    R = np.random.permutation(size)\n",
    "    epoch_loss = 0.0\n",
    "    for i in range(size):\n",
    "        optimizer.zero_grad() # reset derivatives\n",
    "        \n",
    "        x_t = x[R[i]]\n",
    "        y_t = y[R[i]].view(-1)\n",
    "        \n",
    "        y_prediction = w * x_t + b\n",
    "        loss = criterion(y_prediction, y_t)\n",
    "     \n",
    "        loss.backward() # calculate gradients (w.grad, b.grad)\n",
    "        optimizer.step() # update parameters with respect to gradients and learning rate\n",
    "        \n",
    "        epoch_loss += loss.item()\n",
    "    print(\"Epoch: \", epoch+1, \"Loss: \", epoch_loss/size)"
   ]
  },
  {
   "cell_type": "code",
   "execution_count": null,
   "metadata": {},
   "outputs": [],
   "source": [
    "print(\"w: \", w.detach(), \"b: \", b.detach())"
   ]
  },
  {
   "cell_type": "code",
   "execution_count": null,
   "metadata": {},
   "outputs": [],
   "source": [
    "print(\"δE/δw: \", w.grad)\n",
    "optimizer.zero_grad()\n",
    "print(\"δE/δw: \", w.grad)"
   ]
  },
  {
   "cell_type": "code",
   "execution_count": null,
   "metadata": {},
   "outputs": [],
   "source": [
    "# prediction\n",
    "w.detach().item() * 0.54 + b.detach().item()"
   ]
  },
  {
   "cell_type": "markdown",
   "metadata": {},
   "source": [
    "1. Create model (parameters)\n",
    "2. Initialize optimizer,define parameters that will be updated\n",
    "3. Determine loss function (criterion)\n",
    "4. Training Loop\n",
    "    a. reset gradients: optimizer.zero_grad()\n",
    "    b. make prediction: y_prediction = w * x_t + b\n",
    "    c. calculate loss: loss = criterion(y_prediction, y_t)\n",
    "    d. calculate gradients: loss.backward()\n",
    "    e. update parameters: optimizer.step()"
   ]
  },
  {
   "cell_type": "markdown",
   "metadata": {},
   "source": [
    "### Training a Neural Network"
   ]
  },
  {
   "cell_type": "code",
   "execution_count": null,
   "metadata": {},
   "outputs": [],
   "source": [
    "x = 2 * np.pi * torch.rand(50)\n",
    "y = torch.sin(x)"
   ]
  },
  {
   "cell_type": "code",
   "execution_count": null,
   "metadata": {},
   "outputs": [],
   "source": [
    "plt.scatter(x, y)"
   ]
  },
  {
   "cell_type": "code",
   "execution_count": null,
   "metadata": {},
   "outputs": [],
   "source": [
    "model = nn.Sequential(nn.Linear(1,7), nn.ReLU(), nn.Linear(7,1))"
   ]
  },
  {
   "cell_type": "code",
   "execution_count": null,
   "metadata": {},
   "outputs": [],
   "source": [
    "print(model)"
   ]
  },
  {
   "cell_type": "code",
   "execution_count": null,
   "metadata": {},
   "outputs": [],
   "source": [
    "print(\"First Layer:\\n\", model[0])"
   ]
  },
  {
   "cell_type": "code",
   "execution_count": null,
   "metadata": {},
   "outputs": [],
   "source": [
    "print(\"Weights in the first layer: \", model[0].weight)"
   ]
  },
  {
   "cell_type": "code",
   "execution_count": null,
   "metadata": {},
   "outputs": [],
   "source": [
    "optimizer = torch.optim.Adam(lr=0.01, \n",
    "                             params=model.parameters())\n",
    "criterion = nn.MSELoss()"
   ]
  },
  {
   "cell_type": "code",
   "execution_count": null,
   "metadata": {},
   "outputs": [],
   "source": [
    "num_epoch = 30\n",
    "size = x.shape[0]\n",
    "batch_size = 1\n",
    "for epoch in range(num_epoch):\n",
    "    R = np.random.permutation(size)\n",
    "    epoch_loss = 0.0\n",
    "    for i in range(size//batch_size):\n",
    "        optimizer.zero_grad()\n",
    "        \n",
    "        x_t = x[R[i*batch_size:(i+1)*batch_size]].view(-1, 1)\n",
    "        y_t = y[R[i*batch_size:(i+1)*batch_size]].view(-1, 1)\n",
    "        \n",
    "        y_prediction = model(x_t)\n",
    "        loss = criterion(y_prediction,y_t)\n",
    "        loss.backward()\n",
    "        optimizer.step()\n",
    "        \n",
    "        epoch_loss += loss.item()\n",
    "    print(\"Epoch: \", epoch+1, \"Loss: \", epoch_loss/size)"
   ]
  },
  {
   "cell_type": "code",
   "execution_count": null,
   "metadata": {},
   "outputs": [],
   "source": [
    "prediction = model (x.view(-1, 1)).detach()"
   ]
  },
  {
   "cell_type": "code",
   "execution_count": null,
   "metadata": {},
   "outputs": [],
   "source": [
    "plt.scatter(x, y)\n",
    "plt.scatter(x, prediction)\n",
    "plt.legend([\"Truth\",\"Approximated\"])"
   ]
  },
  {
   "cell_type": "markdown",
   "metadata": {},
   "source": [
    "### torch.nn.Module"
   ]
  },
  {
   "cell_type": "code",
   "execution_count": null,
   "metadata": {},
   "outputs": [],
   "source": [
    "class MLP_(torch.nn.Module):\n",
    "    def __init__(self, layer_dims: list, dropout_rate: float):\n",
    "        super(MLP_, self).__init__()\n",
    "\n",
    "        self.num_layers = len(layer_dims) - 1\n",
    "        layers = []\n",
    "        for i in range(self.num_layers):\n",
    "            layers.append(torch.nn.Dropout(p=dropout_rate))\n",
    "            layers.append(torch.nn.Linear(layer_dims[i], layer_dims[i + 1]))\n",
    "            if i != self.num_layers-1:\n",
    "                layers.append(torch.nn.ReLU())\n",
    "        self.layers = torch.nn.ModuleList(layers)\n",
    "\n",
    "    def forward(self, x):\n",
    "        for i in range(len(self.layers)):\n",
    "            x = self.layers[i](x)\n",
    "        return x"
   ]
  },
  {
   "cell_type": "code",
   "execution_count": null,
   "metadata": {},
   "outputs": [],
   "source": [
    "model = MLP_(layer_dims=[10, 10, 20, 2], dropout_rate=0.5)"
   ]
  },
  {
   "cell_type": "code",
   "execution_count": null,
   "metadata": {},
   "outputs": [],
   "source": [
    "print(model)"
   ]
  },
  {
   "cell_type": "code",
   "execution_count": null,
   "metadata": {},
   "outputs": [],
   "source": [
    "x = torch.rand(20, 10)"
   ]
  },
  {
   "cell_type": "code",
   "execution_count": null,
   "metadata": {},
   "outputs": [],
   "source": [
    "prediction = model(x)"
   ]
  },
  {
   "cell_type": "code",
   "execution_count": null,
   "metadata": {},
   "outputs": [],
   "source": []
  }
 ],
 "metadata": {
  "kernelspec": {
   "display_name": "Python 3",
   "language": "python",
   "name": "python3"
  },
  "language_info": {
   "codemirror_mode": {
    "name": "ipython",
    "version": 3
   },
   "file_extension": ".py",
   "mimetype": "text/x-python",
   "name": "python",
   "nbconvert_exporter": "python",
   "pygments_lexer": "ipython3",
   "version": "3.6.8"
  }
 },
 "nbformat": 4,
 "nbformat_minor": 4
}
